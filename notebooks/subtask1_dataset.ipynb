{
 "cells": [
  {
   "cell_type": "code",
   "execution_count": 1,
   "id": "293a0622",
   "metadata": {},
   "outputs": [],
   "source": [
    "import pandas as pd"
   ]
  },
  {
   "cell_type": "code",
   "execution_count": 3,
   "id": "a003d048",
   "metadata": {},
   "outputs": [],
   "source": [
    "df = pd.read_csv(\"../datasets/subtask1_train.csv\")"
   ]
  },
  {
   "cell_type": "code",
   "execution_count": 5,
   "id": "5ac8b11c",
   "metadata": {},
   "outputs": [
    {
     "data": {
      "text/html": [
       "<div>\n",
       "<style scoped>\n",
       "    .dataframe tbody tr th:only-of-type {\n",
       "        vertical-align: middle;\n",
       "    }\n",
       "\n",
       "    .dataframe tbody tr th {\n",
       "        vertical-align: top;\n",
       "    }\n",
       "\n",
       "    .dataframe thead th {\n",
       "        text-align: right;\n",
       "    }\n",
       "</style>\n",
       "<table border=\"1\" class=\"dataframe\">\n",
       "  <thead>\n",
       "    <tr style=\"text-align: right;\">\n",
       "      <th></th>\n",
       "      <th>id</th>\n",
       "      <th>lyrics</th>\n",
       "      <th>label</th>\n",
       "    </tr>\n",
       "  </thead>\n",
       "  <tbody>\n",
       "    <tr>\n",
       "      <th>0</th>\n",
       "      <td>T1_TRAIN_0001</td>\n",
       "      <td>\\n[Letra de \"No Me Enseñaste\"]\\n\\n[Verso 1]\\nL...</td>\n",
       "      <td>NM</td>\n",
       "    </tr>\n",
       "    <tr>\n",
       "      <th>1</th>\n",
       "      <td>T1_TRAIN_0002</td>\n",
       "      <td>\\nPachin!\\n\\nViajera, te vas de puerta en puer...</td>\n",
       "      <td>M</td>\n",
       "    </tr>\n",
       "    <tr>\n",
       "      <th>2</th>\n",
       "      <td>T1_TRAIN_0003</td>\n",
       "      <td>n\\nTe amare toda la vida\\nTodos los años, los ...</td>\n",
       "      <td>NM</td>\n",
       "    </tr>\n",
       "    <tr>\n",
       "      <th>3</th>\n",
       "      <td>T1_TRAIN_0004</td>\n",
       "      <td>[Letra de \"Mi lado Oscuro\" ft. Hijo Pródigo]\\n...</td>\n",
       "      <td>M</td>\n",
       "    </tr>\n",
       "    <tr>\n",
       "      <th>4</th>\n",
       "      <td>T1_TRAIN_0005</td>\n",
       "      <td>ba-baby\\nMuah, jajaja\\n[Letra de \"Me Enamore D...</td>\n",
       "      <td>M</td>\n",
       "    </tr>\n",
       "  </tbody>\n",
       "</table>\n",
       "</div>"
      ],
      "text/plain": [
       "              id                                             lyrics label\n",
       "0  T1_TRAIN_0001  \\n[Letra de \"No Me Enseñaste\"]\\n\\n[Verso 1]\\nL...    NM\n",
       "1  T1_TRAIN_0002  \\nPachin!\\n\\nViajera, te vas de puerta en puer...     M\n",
       "2  T1_TRAIN_0003  n\\nTe amare toda la vida\\nTodos los años, los ...    NM\n",
       "3  T1_TRAIN_0004  [Letra de \"Mi lado Oscuro\" ft. Hijo Pródigo]\\n...     M\n",
       "4  T1_TRAIN_0005  ba-baby\\nMuah, jajaja\\n[Letra de \"Me Enamore D...     M"
      ]
     },
     "execution_count": 5,
     "metadata": {},
     "output_type": "execute_result"
    }
   ],
   "source": [
    "df.head()"
   ]
  }
 ],
 "metadata": {
  "kernelspec": {
   "display_name": ".env",
   "language": "python",
   "name": "python3"
  },
  "language_info": {
   "codemirror_mode": {
    "name": "ipython",
    "version": 3
   },
   "file_extension": ".py",
   "mimetype": "text/x-python",
   "name": "python",
   "nbconvert_exporter": "python",
   "pygments_lexer": "ipython3",
   "version": "3.12.10"
  }
 },
 "nbformat": 4,
 "nbformat_minor": 5
}
