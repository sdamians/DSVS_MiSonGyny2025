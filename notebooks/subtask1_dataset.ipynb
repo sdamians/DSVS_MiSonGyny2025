{
 "cells": [
  {
   "cell_type": "code",
   "execution_count": 10,
   "id": "293a0622",
   "metadata": {},
   "outputs": [],
   "source": [
    "import pandas as pd\n",
    "pd.set_option('display.max_colwidth', None)"
   ]
  },
  {
   "cell_type": "code",
   "execution_count": 11,
   "id": "d70c2567",
   "metadata": {},
   "outputs": [
    {
     "data": {
      "text/html": [
       "<div>\n",
       "<style scoped>\n",
       "    .dataframe tbody tr th:only-of-type {\n",
       "        vertical-align: middle;\n",
       "    }\n",
       "\n",
       "    .dataframe tbody tr th {\n",
       "        vertical-align: top;\n",
       "    }\n",
       "\n",
       "    .dataframe thead th {\n",
       "        text-align: right;\n",
       "    }\n",
       "</style>\n",
       "<table border=\"1\" class=\"dataframe\">\n",
       "  <thead>\n",
       "    <tr style=\"text-align: right;\">\n",
       "      <th></th>\n",
       "      <th>id</th>\n",
       "      <th>lyrics</th>\n",
       "      <th>label</th>\n",
       "    </tr>\n",
       "  </thead>\n",
       "  <tbody>\n",
       "    <tr>\n",
       "      <th>0</th>\n",
       "      <td>T1_TRAIN_0001</td>\n",
       "      <td>\\n[Letra de \"No Me Enseñaste\"]\\n\\n[Verso 1]\\nLlama no importa la hora que yo estoy aquí\\nEntre las cuatro paredes de mi habitación\\nY es importante al menos decirte\\nQue esto de tu ausencia duele, y no sabes cuanto\\nVen aparece tan sólo comunícate\\nQue cada hora es un golpe de desolación\\nEs demasiado aburrido no estar a tu lado\\n\\n[Pre-Coro]\\nVen que mi alma no quiere dejarte ir\\nQue los minutos me acechan, aquí todo es gris\\nQue alrededor todo es miedo y desesperanza\\nVen que nunca imaginaba como era estar sola\\nQue no es nada fácil cuando te derrotan\\nQue no sé que hacer, y aquí no queda nada de nada\\n\\n[Coro]\\nNo me enseñaste cómo estar sin ti\\n¿Y qué le digo yo a este corazón?\\nSi tu te has ido y todo lo perdí\\n¿Por dónde empiezo, si todo acabó?\\nNo me enseñaste cómo estar sin ti\\n¿Cómo olvidarte si nunca aprendí?\\n\\n[Verso 2]\\nLlama y devuélveme todo lo que un día fui\\nEsta locura de verte se vuelve obsesión\\nCuando me invaden estos días tristes\\nSiempre recuerdo mi vida, yo como te amo\\nVen que mi cuerpo la pasa extrañándote\\nQue mis sentidos se encuentran fuera de control\\nEs demasiado aburrido no estar a tu lado\\n\\n[Pre-Coro]\\nVen que nunca imaginaba como estar sola\\nQue no es nada fácil cuando te derrotan\\nQue no sé que hacer, que aquí no queda nada de nada\\n\\n[Coro]\\nNo me enseñaste cómo estar sin ti\\n¿Y qué le digo yo a este corazón?\\nSi tu te has ido y todo lo perdí\\n¿Por dónde empiezo, si todo acabó?\\n¿Cómo olvidarte si nunca aprendí?\\n\\n[Puente]\\nNo me enseñaste, amor, cómo lo hago sin ti\\n\\n[Coro]\\nNo me enseñaste cómo estar sin ti\\n¿Y qué le digo yo a este corazón?\\nSi tu te has ido y todo lo perdí\\n¿Por dónde empiezo, si todo acabó?\\n¿Cómo olvidarte si nunca aprendí?\\nNo me enseñaste cómo estar sin ti\\n¿Y qué le digo yo a este corazón?\\nSi tu te has ido y todo lo perdí\\n¿Por dónde empiezo, si todo acabó?\\n¿Cómo olvidarte si nunca aprendí?\\nNo me enseñaste como estar sin ti\\n¿Y qué le digo yo a este corazón?\\nSi tu te has ido y todo lo perdí\\n¿Por dónde empiezo, si todo acabó?\\n¿Cómo olvidarte si nunca aprendí?</td>\n",
       "      <td>NM</td>\n",
       "    </tr>\n",
       "  </tbody>\n",
       "</table>\n",
       "</div>"
      ],
      "text/plain": [
       "              id  \\\n",
       "0  T1_TRAIN_0001   \n",
       "\n",
       "                                                                                                                                                                                                                                                                                                                                                                                                                                                                                                                                                                                                                                                                                                                                                                                                                                                                                                                                                                                                                                                                                                                                                                                                                                                                                                                                                                                                                                                                                                                                                                                                                                                                                                                                                                                                                                                                                                                                                                                                                                                                                                                                            lyrics  \\\n",
       "0  \\n[Letra de \"No Me Enseñaste\"]\\n\\n[Verso 1]\\nLlama no importa la hora que yo estoy aquí\\nEntre las cuatro paredes de mi habitación\\nY es importante al menos decirte\\nQue esto de tu ausencia duele, y no sabes cuanto\\nVen aparece tan sólo comunícate\\nQue cada hora es un golpe de desolación\\nEs demasiado aburrido no estar a tu lado\\n\\n[Pre-Coro]\\nVen que mi alma no quiere dejarte ir\\nQue los minutos me acechan, aquí todo es gris\\nQue alrededor todo es miedo y desesperanza\\nVen que nunca imaginaba como era estar sola\\nQue no es nada fácil cuando te derrotan\\nQue no sé que hacer, y aquí no queda nada de nada\\n\\n[Coro]\\nNo me enseñaste cómo estar sin ti\\n¿Y qué le digo yo a este corazón?\\nSi tu te has ido y todo lo perdí\\n¿Por dónde empiezo, si todo acabó?\\nNo me enseñaste cómo estar sin ti\\n¿Cómo olvidarte si nunca aprendí?\\n\\n[Verso 2]\\nLlama y devuélveme todo lo que un día fui\\nEsta locura de verte se vuelve obsesión\\nCuando me invaden estos días tristes\\nSiempre recuerdo mi vida, yo como te amo\\nVen que mi cuerpo la pasa extrañándote\\nQue mis sentidos se encuentran fuera de control\\nEs demasiado aburrido no estar a tu lado\\n\\n[Pre-Coro]\\nVen que nunca imaginaba como estar sola\\nQue no es nada fácil cuando te derrotan\\nQue no sé que hacer, que aquí no queda nada de nada\\n\\n[Coro]\\nNo me enseñaste cómo estar sin ti\\n¿Y qué le digo yo a este corazón?\\nSi tu te has ido y todo lo perdí\\n¿Por dónde empiezo, si todo acabó?\\n¿Cómo olvidarte si nunca aprendí?\\n\\n[Puente]\\nNo me enseñaste, amor, cómo lo hago sin ti\\n\\n[Coro]\\nNo me enseñaste cómo estar sin ti\\n¿Y qué le digo yo a este corazón?\\nSi tu te has ido y todo lo perdí\\n¿Por dónde empiezo, si todo acabó?\\n¿Cómo olvidarte si nunca aprendí?\\nNo me enseñaste cómo estar sin ti\\n¿Y qué le digo yo a este corazón?\\nSi tu te has ido y todo lo perdí\\n¿Por dónde empiezo, si todo acabó?\\n¿Cómo olvidarte si nunca aprendí?\\nNo me enseñaste como estar sin ti\\n¿Y qué le digo yo a este corazón?\\nSi tu te has ido y todo lo perdí\\n¿Por dónde empiezo, si todo acabó?\\n¿Cómo olvidarte si nunca aprendí?   \n",
       "\n",
       "  label  \n",
       "0    NM  "
      ]
     },
     "execution_count": 11,
     "metadata": {},
     "output_type": "execute_result"
    }
   ],
   "source": [
    "df = pd.read_csv(\"../datasets/subtask1_train.csv\")\n",
    "df.head(1)"
   ]
  },
  {
   "cell_type": "code",
   "execution_count": 12,
   "id": "a003d048",
   "metadata": {},
   "outputs": [
    {
     "data": {
      "text/plain": [
       "label\n",
       "NM    1462\n",
       "M      642\n",
       "Name: count, dtype: int64"
      ]
     },
     "execution_count": 12,
     "metadata": {},
     "output_type": "execute_result"
    }
   ],
   "source": [
    "df[\"label\"].value_counts()"
   ]
  },
  {
   "cell_type": "code",
   "execution_count": null,
   "id": "5ac8b11c",
   "metadata": {},
   "outputs": [
    {
     "name": "stdout",
     "output_type": "stream",
     "text": [
      "\n",
      "[Letra de \"No Me Enseñaste\"]\n",
      "\n",
      "[Verso 1]\n",
      "Llama no importa la hora que yo estoy aquí\n",
      "Entre las cuatro paredes de mi habitación\n",
      "Y es importante al menos decirte\n",
      "Que esto de tu ausencia duele, y no sabes cuanto\n",
      "Ven aparece tan sólo comunícate\n",
      "Que cada hora es un golpe de desolación\n",
      "Es demasiado aburrido no estar a tu lado\n",
      "\n",
      "[Pre-Coro]\n",
      "Ven que mi alma no quiere dejarte ir\n",
      "Que los minutos me acechan, aquí todo es gris\n",
      "Que alrededor todo es miedo y desesperanza\n",
      "Ven que nunca imaginaba como era estar sola\n",
      "Que no es nada fácil cuando te derrotan\n",
      "Que no sé que hacer, y aquí no queda nada de nada\n",
      "\n",
      "[Coro]\n",
      "No me enseñaste cómo estar sin ti\n",
      "¿Y qué le digo yo a este corazón?\n",
      "Si tu te has ido y todo lo perdí\n",
      "¿Por dónde empiezo, si todo acabó?\n",
      "No me enseñaste cómo estar sin ti\n",
      "¿Cómo olvidarte si nunca aprendí?\n",
      "\n",
      "[Verso 2]\n",
      "Llama y devuélveme todo lo que un día fui\n",
      "Esta locura de verte se vuelve obsesión\n",
      "Cuando me invaden estos días tristes\n",
      "Siempre recuerdo mi vida, yo como te amo\n",
      "Ven que mi cuerpo la pasa extrañándote\n",
      "Que mis sentidos se encuentran fuera de control\n",
      "Es demasiado aburrido no estar a tu lado\n",
      "\n",
      "[Pre-Coro]\n",
      "Ven que nunca imaginaba como estar sola\n",
      "Que no es nada fácil cuando te derrotan\n",
      "Que no sé que hacer, que aquí no queda nada de nada\n",
      "\n",
      "[Coro]\n",
      "No me enseñaste cómo estar sin ti\n",
      "¿Y qué le digo yo a este corazón?\n",
      "Si tu te has ido y todo lo perdí\n",
      "¿Por dónde empiezo, si todo acabó?\n",
      "¿Cómo olvidarte si nunca aprendí?\n",
      "\n",
      "[Puente]\n",
      "No me enseñaste, amor, cómo lo hago sin ti\n",
      "\n",
      "[Coro]\n",
      "No me enseñaste cómo estar sin ti\n",
      "¿Y qué le digo yo a este corazón?\n",
      "Si tu te has ido y todo lo perdí\n",
      "¿Por dónde empiezo, si todo acabó?\n",
      "¿Cómo olvidarte si nunca aprendí?\n",
      "No me enseñaste cómo estar sin ti\n",
      "¿Y qué le digo yo a este corazón?\n",
      "Si tu te has ido y todo lo perdí\n",
      "¿Por dónde empiezo, si todo acabó?\n",
      "¿Cómo olvidarte si nunca aprendí?\n",
      "No me enseñaste como estar sin ti\n",
      "¿Y qué le digo yo a este corazón?\n",
      "Si tu te has ido y todo lo perdí\n",
      "¿Por dónde empiezo, si todo acabó?\n",
      "¿Cómo olvidarte si nunca aprendí?\n"
     ]
    }
   ],
   "source": [
    "\n",
    "print(df[\"lyrics\"][0])"
   ]
  },
  {
   "cell_type": "code",
   "execution_count": 30,
   "id": "211dd8ce",
   "metadata": {},
   "outputs": [],
   "source": [
    "import re\n",
    "\n",
    "def clean_verse(verse):\n",
    "    sentences = verse.split('\\n')\n",
    "    new_verse = []\n",
    "    new_verse = \" \".join([ sentence for sentence in sentences if sentence not in new_verse ])\n",
    "    new_verse = re.sub(r'\\[.*\\]', '', new_verse)\n",
    "    new_verse = re.sub(r'\\(.*\\)', '', new_verse)\n",
    "    new_verse = re.sub(r'\\s+', ' ', new_verse)\n",
    "    return new_verse.strip()\n",
    "\n",
    "def split_songs_into_verses(song_list):\n",
    "    songs = []\n",
    "    for idx, song in enumerate(song_list):\n",
    "        verses = song.split('\\n\\n')\n",
    "        verses = [ clean_verse(v) for v in verses ]\n",
    "        verses = [ v for v in verses if len(v) != 0 and v != ' ' ]\n",
    "        songs.append(verses)\n",
    "    return songs"
   ]
  },
  {
   "cell_type": "code",
   "execution_count": 31,
   "id": "65c3a8b6",
   "metadata": {},
   "outputs": [
    {
     "data": {
      "text/plain": [
       "[['Llama no importa la hora que yo estoy aquí Entre las cuatro paredes de mi habitación Y es importante al menos decirte Que esto de tu ausencia duele, y no sabes cuanto Ven aparece tan sólo comunícate Que cada hora es un golpe de desolación Es demasiado aburrido no estar a tu lado',\n",
       "  'Ven que mi alma no quiere dejarte ir Que los minutos me acechan, aquí todo es gris Que alrededor todo es miedo y desesperanza Ven que nunca imaginaba como era estar sola Que no es nada fácil cuando te derrotan Que no sé que hacer, y aquí no queda nada de nada',\n",
       "  'No me enseñaste cómo estar sin ti ¿Y qué le digo yo a este corazón? Si tu te has ido y todo lo perdí ¿Por dónde empiezo, si todo acabó? No me enseñaste cómo estar sin ti ¿Cómo olvidarte si nunca aprendí?',\n",
       "  'Llama y devuélveme todo lo que un día fui Esta locura de verte se vuelve obsesión Cuando me invaden estos días tristes Siempre recuerdo mi vida, yo como te amo Ven que mi cuerpo la pasa extrañándote Que mis sentidos se encuentran fuera de control Es demasiado aburrido no estar a tu lado',\n",
       "  'Ven que nunca imaginaba como estar sola Que no es nada fácil cuando te derrotan Que no sé que hacer, que aquí no queda nada de nada',\n",
       "  'No me enseñaste cómo estar sin ti ¿Y qué le digo yo a este corazón? Si tu te has ido y todo lo perdí ¿Por dónde empiezo, si todo acabó? ¿Cómo olvidarte si nunca aprendí?',\n",
       "  'No me enseñaste, amor, cómo lo hago sin ti',\n",
       "  'No me enseñaste cómo estar sin ti ¿Y qué le digo yo a este corazón? Si tu te has ido y todo lo perdí ¿Por dónde empiezo, si todo acabó? ¿Cómo olvidarte si nunca aprendí? No me enseñaste cómo estar sin ti ¿Y qué le digo yo a este corazón? Si tu te has ido y todo lo perdí ¿Por dónde empiezo, si todo acabó? ¿Cómo olvidarte si nunca aprendí? No me enseñaste como estar sin ti ¿Y qué le digo yo a este corazón? Si tu te has ido y todo lo perdí ¿Por dónde empiezo, si todo acabó? ¿Cómo olvidarte si nunca aprendí?'],\n",
       " ['Pachin!',\n",
       "  'Viajera, te vas de puerta en puerta Buscando quien te quiera Viajera flor machita y destrichada Que has perdido tu belleza Sin dejar la primavera',\n",
       "  'Viajera, hoy reflejas en tu rostro Huellas de un triste pasado Por vivir, a tu manera Entregandole a cualquiera Tus caricias pasajeras Sin sentir ningun amor',\n",
       "  'Viajera, hoy te miro con gran pena Te acompana por donde quiera El beso de un gran dolor',\n",
       "  'Ni la sombra te pareces De lo que fuistes un dia Hoy te tengo compasion Oigame mi amor!',\n",
       "  '- Viajera hoy siento por ti gran pena Flor machita y destrichada, has perdido tu belleza, viajera',\n",
       "  'Cada vez que yo te miro! Que pena me da mirarte mi nena',\n",
       "  'Sufrimiento y soledad en tu vida si... eso lo que te espera',\n",
       "  'Entregandole a cualquiera, tus caricias ... mira pasajeras',\n",
       "  'Me expreso mi compasion, por tu condicion, y ya no te quiero viajera',\n",
       "  'Te vas de puerta en puerta, buscando quien te quiera',\n",
       "  'Pudiste cambiar a tiempo, pero tu no lo querias mi nena',\n",
       "  'Ni la sombra te pareces, de lo que fuistes un dia mi china!',\n",
       "  'Hoy me alejo de ti, ya no te quiero a mi lado, mira morena',\n",
       "  '.... \"Oye agara la maleta, oye y vete pa\\' fuera!\"',\n",
       "  'A ti nunca te importo nada de mi, y tu lo sabes viajera!',\n",
       "  'Hoy reflejas en tu rostro, huellas de un triste pasado!',\n",
       "  'Has viajado Panama, Colombia y el Peru, y vienes de Venezuela',\n",
       "  'Tu tienes lo malo encima, por eso de ti ya yo! me fui mi nena!',\n",
       "  '.....\"Y asi termina la historia mami, de una ... jajaja ... viajera!\"'],\n",
       " ['n Te amare toda la vida Todos los años, los meses y los dias Todas las horas Y todos los instantes Mientras pueda latir mi corazón',\n",
       "  'Te amare toda la vida Todos los años, los meses y los dias Todas las horas Y todos los instantes Mientras pueda latir mi corazón',\n",
       "  'Tendras las flores de mi amor En primavera, en el verano Aunmentara el calor con mi pasion En el otoño',\n",
       "  'Cuando las hojas caigan Tendra tu vida Una nueva ilusión En el invierno Tendra el fuego De mi corazón'],\n",
       " ['de suicidio Flor de vida Los paisajes cambian Puede grabarlo en vídeo',\n",
       "  'Algo te atrae sin porqués, no se ve, cambia tu ser Da sed, caes en un cuarto sin pared No es de ayer, te consume, sube en tu interior Es la maldad y el dolor que afloran sin condición Hay quien llora cuando nota su alma sucia y rota La calma mora y flota, no se coge ni se toca No se encoge, pero explota, idiota, el rencor brota Es peor que la farlopa, su olor queda en tu ropa Está detrás de todo, de cualquier modo Sin más, te puede encontrar Sólo duele por los poros al principio Sentimiento real y no ficticio Mongolo es verdad, es el inicio Miras y enfilas la salida que se estira, no respiras Y encima, eso propina un bajón en la autoestima Y te vuelves un cabrón que se fascina Por la ira, por el daño y los extraños que caminan Años atrás era imposible pensar En follar con novia de alguno Que os una algo muy puro que abruma a cualquiera Sentimiento se esfuman Por querer romper su culo en un futuro zulo o duna',\n",
       "  'La oscuridad cubre mi piel y tu cuerpo también Los polos opuestos se atraen, los valores se caen Esa parte de mí no conoce días felices Se desinhibe, siente pavor por las cosas que ve Por eso escribe, y ¿sabes qué? simplemente es tener sed Miedo a la muerte, a las catástrofes, falta de fe Esa parte de mí nunca sonríe ni busca apoyo No está muerta, todas las noches duerme en su hoyo Es una parte de mí que no conoces, pero sientes Es un secreto a voces y tú ya sabes que te miente No busca nada en concreto, es un experto Y con frecuencia las personas me hacen perder el respeto Señora no es Dios, es un cartel que promociona el cáncer Con letras grandes y es la verdad Tiene sus propias reglas, no se conforma Se tranquiliza cuando lo beso, le doy forma como norma',\n",
       "  'Es una parte de mí que no puedo controlar Una parte de mi cuerpo que me impide respirar ¿Quién te enseña a volar? No tengo apoyo No está muerto y por las noches duerme dentro de un hoyo Es una parte de mí que no puedo controlar Una parte de mi cuerpo que me impide respirar ¿Quién te enseña a volar? No tengo apoyo No está muerto y por las noches duerme dentro de un hoyo',\n",
       "  'No sabes por qué vino, cambió tu carácter, tus sentidos Una parte de ti cayó en el olvido Harto, ya no compartes nada con tus amigos Está claro, hay disparos interiores destructivos Cautivo del mal, del no saber qué desear Dolor a los demás causa ansiedad No puedes, no quieres parar Hieres sin más tras la puerta interior El rencor vive, se percibe ya que lloras cuando escribes Gimes, te desinhibes por su tacto Es veneno, el miedo y el fuego forjado en el acto Exacto, lo llevas dentro y eso conlleva Sentir como se eleva, no dormir, tener ojeras Se desliza lento, momento, intenso, inmenso El trauma interno es totalmente enfermo Los recuerdos se pierden, hierven Que la envidia no te encuentre, junto al odio muerden Ahora te empuja a la maldad, busca estar detrás de ti Hacer sufrir, poder vivir y sin más destruir y mirar Insistir por existir, para pudrir, ser infeliz Chequea el beat, un matiz, esto es así',\n",
       "  'Sufro insomnio por las noches y ya no duermo Esa parte de mí se convierte en un enfermo Y ya no puedo hacer nada, me almohada está empapada Con un agua infernal y demasiado salada Quiero ser como tú, preocuparme por mí mismo Y la elegancia en mis tatoos La muerte se anuncia en cada parada del bus Nadie lo sabe, no lo ve Y esa parte oscura irá contigo allí donde estés Él se acuerda de ti y como no, siempre te nombra Él sabe que para ti es como el hombre sin sombra Así siempre lo sientes, sabes que va contigo En cualquier tiempo presente se desatan tus nervios Nadie te cree, es algo serio Y ves imágenes de muertes como un niño serbio Estoy enfermo, no me curo Este es mi lado oscuro, mis nervios se paralizan Mi cabeza hecha trizas y mi cuerpo agoniza',\n",
       "  'Es una parte de mí que no puedo controlar Una parte de mi cuerpo que me impide respirar ¿Quién te enseña a volar? No tengo apoyo No está muerto y por las noches duerme dentro de un hoyo Es una parte de mí que no puedo controlar Una parte de mi cuerpo que me impide respirar ¿Quién te enseña a volar? No tengo apoyo No está muerto y por las noches duerme dentro de un hoyo'],\n",
       " ['ba-baby Muah, jajaja',\n",
       "  'Quiero que seas mía y nunca de nadie Un amor verdadero nunca se comparte Prometo darte todo y que nada te falte',\n",
       "  'Me enamoré de ti, de tu figura, de tu cara Y ya no sé qué hacer, me voy a enloquecer Dime si sigo aquí, si entrego todo lo que tengo O me voy de aquí y te quedas sin mí',\n",
       "  'Me enamoré de ti Dime si sigo aquí Luchando para ver si algo te hago sentir',\n",
       "  'Contéstame el teléfono, mami, no digas que no Mira que estoy solo y que te extraño en mi habitación Yo sé que todavía escuchas Aventura Y lo que siento por ti no es ninguna obsesión',\n",
       "  'Oye, mami, espérame en la puerta Que voy a recogerte, espero que estés dispuesta Oye, mami, espérame en la puerta Que vine a recogerte, dime qué te cuesta',\n",
       "  'Me enamoré de ti, de tu figura, de tu cara Y ya no sé qué hacer, me voy a enloquecer Dime si sigo aquí, si entrego todo lo que tengo O me voy de aquí y te quedas sin mí',\n",
       "  'Me enamoré de ti Dime si sigo aquí Luchando para ver si algo te hago sentir',\n",
       "  'Quiero que seas mía y nunca de nadie Prometo darte todo y que nada te falte',\n",
       "  'Me enamoré de ti, de tu figura, de tu cara Y ya no sé qué hacer, me voy a enloquecer Dime si sigo aquí, si entrego todo lo que tengo O me voy de aquí y te quedas sin mí',\n",
       "  'Escucha, jaja, cuando el amor llega a tu vida, llega para quedarse De parte de Maluma, ba-ba-baby Muah, jajaja'],\n",
       " ['Dejame pintarcon mis caricias Un mundo de ilusiones que jamás conocerías Déjame crear entre mis brazos Ese castillo azul que tu soñaste desde niña',\n",
       "  'Y déjame calmar ese deseo que tus labios Me pide a gritos que nunca me alejé de tu lado',\n",
       "  'Quiero regalarte mis manías Y el eco de mi voz para que te haga compañía Quiero despertarte cada día Con nuevas melodías que tus labios hoy me inspiran',\n",
       "  'Yo sé lo que has sufrido con amores del pasado Y las partes de tu cuerpo que con otros has malgastado Yo se que has perdido la esperanza pero déjame intentarlo',\n",
       "  'Déjate llevar Y piérdete en mis labios sin dudar Dejame intentar Amarte cada día un poco más Sin relojes de tiempos perdidos Si me dejas me lanzo al vacío En busca de las redes de tu amor',\n",
       "  'Quiero darle vida a tu alegría Y matar cada recuerdo que reabra tus heridas Quiero ser guardián de tu sonrisa Y cuidarte cada noche para que duermas tranquila',\n",
       "  'Porque sé lo que has sufrido con amores del pasado Y las partes de tu cuerpo que con otros has malgastado Yo se que has perdido la esperanza Pero déjame intentarlo',\n",
       "  'Déjate llevar Y piérdete en mis brazos sin dudar Déjame intentar Amarte cada día un poco más',\n",
       "  'Sin relojes de tiempos perdidos Si me dejas me lanzo al vacío En busca de las redes de tu amor',\n",
       "  'Déjate llevar Y piérdete en mis labios sin dudar Dejame intentar Amarte cada día un poco más',\n",
       "  'Sin relojes de tiempos perdidos Si me dejas me lanzo al vacío En busca de las redes de tu amor'],\n",
       " ['Quieres saber Si todavía te sigo pensando Quieres saber Si de nuevo Me he enamorado Quieres ocultar y olvidar Todo lo que ha pasado El tiempo no ha cambiado El tiempo nos ha marcado',\n",
       "  'Todos los días soportando Todas tu quejas Creías que de mi vida Eras la dueña Difícil va a ser que yo quiera Volver a intentarlo Ahora que te vuelvo a encontrar Ya lo tengo bien decidido',\n",
       "  'Ya no soy El tonto idiota Que se enamoro De una locura De una obsesión Quiero sеr libre Y brillar como el sol Espero no volvеr a encontrarte Ya he logrado borrarte He logrado sacarte de mis sueños El amor es Libertad',\n",
       "  'Me olvide del paisaje Por mirar el camino Me olvide del mundo Y olvide los amigos Después de todo lo que he sufrido Pude comprender Que nadie es dueño de nadie Y nadie nunca lo será',\n",
       "  'Ya no soy El tonto idiota Que se enamoro De una locura De una obsesión Quiero ser libre Y brillar como el sol Espero no volver a encontrarte Ya he logrado borrarte He logrado sacarte de mis sueños El amor es Libertad',\n",
       "  'Ya no soy El tonto idiota Que se enamoro De una locura De una obsesión Quiero ser libre Y brillar como el sol Espero no volver a encontrarte Ya he logrado borrarte He logrado sacarte de mis sueños El amor es Libertad El amor es Libertad El amor es Libertad'],\n",
       " ['No quiero separarme de ti Ni siquiera un momento No quiero perder el tiempo',\n",
       "  'Tu sabes que te quiero a morir Que no soy de aspavientos Y que me gusta lento',\n",
       "  'Ay! Llévame despacio que no hay prisa Ve dejando en mi camisa una ruta de besos Que me lleve al mismo cielo',\n",
       "  'Ay! Pégate sin miedo con malicia Lléname de tu sonrisa el corazón A ritmo de tu cuerpo',\n",
       "  'Lento, baílame lento Así con todo sentimiento Vem cá menina, não me deixe',\n",
       "  'Lento, cierra los ojos Y vivamos el momento Baila conmigo hasta que veas salir el sol',\n",
       "  'La música se adueña de mi Yo me pierdo en tu cuerpo Tú me quemas con tu fuego',\n",
       "  'En tu cintura quiero vivir Respirar de tu aliento Y que me beses lento',\n",
       "  'Ay! Llévame despacio que no hay prisa Ve dejando en mi camisa una ruta de besos Que me lleve al mismo cielo',\n",
       "  'Ay! Pégate sin miedo con malicia Lléname de tu sonrisa el corazón A ritmo de tu cuerpo',\n",
       "  'Lento, baílame lento Así con todo sentimiento Vem cá menina, não me deixe',\n",
       "  'Lento, cierra los ojos Y vivamos el momento Baila conmigo hasta que veas salir el sol',\n",
       "  'Los dos en un solo cuerpo Bailando lento',\n",
       "  'Lento, baílame lento Así con todo sentimiento Vem cá menina, não me deixe',\n",
       "  'Lento, cierra los ojos Y vivamos el momento Baila conmigo hasta que veas salir el sol'],\n",
       " [\"o Vamo'a ver si es verdad Que tú sirves, Caridad, pa' arrollar Se escucha el ritmo sonoro Quítate de la acera De tu chancleta sin par Mira que te tumbo Cuando la clave de oro Quítate de la acera Suena la conga al pasar Ah, eh... Baila mulata sandunguera Quítate de la acera Luce tu falda almidoná Mira que te tumbo Mueve tu rítmica cadera Quítate de la acera Sigue la conga que se va Entre esa bulla hechicera Tu alma difundida еstá Vamo'a ver si es verdad Quе tú sirves, Caridad, pa' arrollar Quítate de la acera Mira que te tumbo Quítate de la acera Ah, eh... Baila mulata sandunguera Quítate de la acera Luce tu falda almidoná Mira que te tumbo Mueve tu rítmica cadera Quítate de la acera Sigue la conga que se va Entre esa bulla hechicera Tu alma difundida está Vamo'a ver si es verdad Que tú sirves, Caridad, pa' arrollar Quítate de la acera Mira que te tumbo Ay, pero quítate de la acera Oye, mira que te tumbo Quítate de la acera Mira que te tumbo Que pero que viene La Sonora Arrollando por el mundo Quítate de la acera Mira que te tumbo Ay, pero mira que te tumbo Mira que te tumbo Quítate de la acera Mira que te tumbo Quítate de la acera Mira que te tumbo Quítate de la acera Mira que te tumbo Quítate de la acera Mira que te tumbo Quítate de la acera Mira que te tumbo Quítate de la acera Mira que te tumbo\"],\n",
       " ['tickets as low as $42',\n",
       "  'Aunque no te importe nada La vida de un delfín Nadarás a fin de siglo En tu pecera',\n",
       "  'Si no sabes si eres rata O una masa amorfa más Sólo basta darle un beso al espejo',\n",
       "  'Si no quieres entender Que invernando están las brujas Amárrate a una escoba y vuela lejos, lejos',\n",
       "  'Muy lejos Aunque no puedas Aunque te mueras']]"
      ]
     },
     "execution_count": 31,
     "metadata": {},
     "output_type": "execute_result"
    }
   ],
   "source": [
    "split_songs_into_verses(df['lyrics'][:10])"
   ]
  },
  {
   "cell_type": "code",
   "execution_count": null,
   "id": "0cbc8963",
   "metadata": {},
   "outputs": [],
   "source": [
    "print(df[\"lyrics\"][ df[\"id\"] == \"T1_TRAIN_2099\"].to_numpy()[0])"
   ]
  },
  {
   "cell_type": "code",
   "execution_count": null,
   "id": "61815285",
   "metadata": {},
   "outputs": [],
   "source": [
    "print(df[\"lyrics\"][ df[\"label\"] == 'M' ].to_numpy()[1])"
   ]
  },
  {
   "cell_type": "code",
   "execution_count": 2,
   "id": "8782ce6c",
   "metadata": {},
   "outputs": [
    {
     "name": "stderr",
     "output_type": "stream",
     "text": [
      "c:\\Users\\sdami\\OneDrive\\Escritorio\\Misongyny\\.env\\Lib\\site-packages\\tqdm\\auto.py:21: TqdmWarning: IProgress not found. Please update jupyter and ipywidgets. See https://ipywidgets.readthedocs.io/en/stable/user_install.html\n",
      "  from .autonotebook import tqdm as notebook_tqdm\n"
     ]
    }
   ],
   "source": [
    "from datasets import Dataset\n",
    "from torch.utils.data import DataLoader"
   ]
  },
  {
   "cell_type": "code",
   "execution_count": 3,
   "id": "ca298a05",
   "metadata": {},
   "outputs": [
    {
     "data": {
      "text/plain": [
       "['Sergio Arturo',\n",
       " 'Damian Sandoval',\n",
       " 'Sergio Arturo',\n",
       " 'Damian Sandoval',\n",
       " 'Sergio Arturo',\n",
       " 'Damian Sandoval',\n",
       " 'Sergio Arturo',\n",
       " 'Damian Sandoval',\n",
       " 'Sergio Arturo',\n",
       " 'Damian Sandoval',\n",
       " 'Sergio Arturo',\n",
       " 'Damian Sandoval',\n",
       " 'Sergio Arturo',\n",
       " 'Damian Sandoval',\n",
       " 'Sergio Arturo',\n",
       " 'Damian Sandoval',\n",
       " 'Sergio Arturo',\n",
       " 'Damian Sandoval',\n",
       " 'Sergio Arturo',\n",
       " 'Damian Sandoval']"
      ]
     },
     "execution_count": 3,
     "metadata": {},
     "output_type": "execute_result"
    }
   ],
   "source": [
    "[ \"Sergio Arturo\", \"Damian Sandoval\"] * 10"
   ]
  },
  {
   "cell_type": "code",
   "execution_count": 4,
   "id": "fe9016d4",
   "metadata": {},
   "outputs": [],
   "source": [
    "d = { \"text\": [ \"Sergio Arturo\", \"Damian Sandoval\"] * 16, \"metric\": [0.9, 0.5] * 16 }\n",
    "cust_dataset = Dataset.from_dict(d)"
   ]
  },
  {
   "cell_type": "code",
   "execution_count": null,
   "id": "7eb6f9c7",
   "metadata": {},
   "outputs": [],
   "source": [
    "my_dataloader = DataLoader(cust_dataset, batch_size=8, shuffle=True)"
   ]
  },
  {
   "cell_type": "code",
   "execution_count": 1,
   "id": "00c98a3a",
   "metadata": {},
   "outputs": [],
   "source": [
    "import torch as t\n",
    "import torch.nn as nn"
   ]
  },
  {
   "cell_type": "code",
   "execution_count": 6,
   "id": "8e3dccab",
   "metadata": {},
   "outputs": [
    {
     "name": "stdout",
     "output_type": "stream",
     "text": [
      "{'text': ['Sergio Arturo', 'Damian Sandoval', 'Sergio Arturo', 'Damian Sandoval', 'Sergio Arturo', 'Damian Sandoval', 'Sergio Arturo', 'Sergio Arturo'], 'metric': tensor([0.9000, 0.5000, 0.9000, 0.5000, 0.9000, 0.5000, 0.9000, 0.9000],\n",
      "       dtype=torch.float64)}\n",
      "{'text': ['Sergio Arturo', 'Damian Sandoval', 'Damian Sandoval', 'Sergio Arturo', 'Damian Sandoval', 'Sergio Arturo', 'Sergio Arturo', 'Sergio Arturo'], 'metric': tensor([0.9000, 0.5000, 0.5000, 0.9000, 0.5000, 0.9000, 0.9000, 0.9000],\n",
      "       dtype=torch.float64)}\n",
      "{'text': ['Damian Sandoval', 'Damian Sandoval', 'Damian Sandoval', 'Damian Sandoval', 'Damian Sandoval', 'Sergio Arturo', 'Sergio Arturo', 'Damian Sandoval'], 'metric': tensor([0.5000, 0.5000, 0.5000, 0.5000, 0.5000, 0.9000, 0.9000, 0.5000],\n",
      "       dtype=torch.float64)}\n",
      "{'text': ['Damian Sandoval', 'Damian Sandoval', 'Sergio Arturo', 'Damian Sandoval', 'Sergio Arturo', 'Sergio Arturo', 'Sergio Arturo', 'Damian Sandoval'], 'metric': tensor([0.5000, 0.5000, 0.9000, 0.5000, 0.9000, 0.9000, 0.9000, 0.5000],\n",
      "       dtype=torch.float64)}\n"
     ]
    }
   ],
   "source": [
    "for batch in my_dataloader:\n",
    "    print(batch)"
   ]
  },
  {
   "cell_type": "code",
   "execution_count": 2,
   "id": "cb009e80",
   "metadata": {},
   "outputs": [],
   "source": [
    "import torch as t\n",
    "from transformers import AutoModel\n",
    "from transformers import AutoTokenizer\n",
    "\n",
    "model = AutoModel.from_pretrained('bert-base-uncased')\n",
    "tokenizer = AutoTokenizer.from_pretrained('bert-base-uncased')\n",
    "\n",
    "tokens = tokenizer([\"Sergio Damian is a\"])\n",
    "tokens = { k:t.tensor(v) for k,v in tokens.items() }\n",
    "outputs = model(**tokens)"
   ]
  },
  {
   "cell_type": "code",
   "execution_count": 6,
   "id": "bfef5b1c",
   "metadata": {},
   "outputs": [
    {
     "data": {
      "text/plain": [
       "torch.Size([1, 768])"
      ]
     },
     "execution_count": 6,
     "metadata": {},
     "output_type": "execute_result"
    }
   ],
   "source": [
    "outputs.pooler_output.shape"
   ]
  },
  {
   "cell_type": "code",
   "execution_count": 24,
   "id": "5a496f1b",
   "metadata": {},
   "outputs": [
    {
     "data": {
      "text/plain": [
       "torch.Size([1, 6, 768])"
      ]
     },
     "execution_count": 24,
     "metadata": {},
     "output_type": "execute_result"
    }
   ],
   "source": [
    "outputs.last_hidden_state.shape"
   ]
  },
  {
   "cell_type": "code",
   "execution_count": 9,
   "id": "e2e2f841",
   "metadata": {},
   "outputs": [
    {
     "data": {
      "text/plain": [
       "tensor([[0.0005, 0.0009, 0.0013, 0.0022, 0.0009, 0.0010, 0.0027, 0.0015, 0.0013,\n",
       "         0.0004, 0.0013, 0.0015, 0.0030, 0.0010, 0.0027, 0.0006, 0.0010, 0.0007,\n",
       "         0.0015, 0.0005, 0.0019, 0.0029, 0.0021, 0.0014, 0.0016, 0.0015, 0.0006,\n",
       "         0.0026, 0.0028, 0.0022, 0.0006, 0.0013, 0.0004, 0.0010, 0.0012, 0.0004,\n",
       "         0.0014, 0.0006, 0.0012, 0.0011, 0.0005, 0.0015, 0.0031, 0.0007, 0.0009,\n",
       "         0.0009, 0.0004, 0.0013, 0.0005, 0.0009, 0.0009, 0.0007, 0.0013, 0.0016,\n",
       "         0.0016, 0.0016, 0.0009, 0.0012, 0.0011, 0.0007, 0.0007, 0.0013, 0.0012,\n",
       "         0.0005, 0.0009, 0.0008, 0.0011, 0.0009, 0.0011, 0.0011, 0.0026, 0.0013,\n",
       "         0.0013, 0.0006, 0.0008, 0.0013, 0.0007, 0.0031, 0.0008, 0.0004, 0.0009,\n",
       "         0.0011, 0.0017, 0.0019, 0.0009, 0.0004, 0.0015, 0.0010, 0.0004, 0.0013,\n",
       "         0.0014, 0.0010, 0.0007, 0.0017, 0.0009, 0.0011, 0.0009, 0.0014, 0.0010,\n",
       "         0.0012, 0.0011, 0.0009, 0.0011, 0.0009, 0.0012, 0.0008, 0.0008, 0.0016,\n",
       "         0.0008, 0.0021, 0.0016, 0.0009, 0.0013, 0.0005, 0.0020, 0.0009, 0.0004,\n",
       "         0.0007, 0.0004, 0.0022, 0.0013, 0.0011, 0.0029, 0.0021, 0.0014, 0.0012,\n",
       "         0.0013, 0.0004, 0.0008, 0.0011, 0.0013, 0.0010, 0.0004, 0.0005, 0.0018,\n",
       "         0.0028, 0.0012, 0.0031, 0.0009, 0.0027, 0.0014, 0.0010, 0.0009, 0.0008,\n",
       "         0.0014, 0.0016, 0.0006, 0.0014, 0.0011, 0.0009, 0.0010, 0.0009, 0.0013,\n",
       "         0.0005, 0.0008, 0.0028, 0.0012, 0.0012, 0.0020, 0.0009, 0.0009, 0.0024,\n",
       "         0.0014, 0.0014, 0.0011, 0.0014, 0.0010, 0.0016, 0.0005, 0.0014, 0.0016,\n",
       "         0.0010, 0.0012, 0.0004, 0.0009, 0.0019, 0.0029, 0.0023, 0.0013, 0.0012,\n",
       "         0.0009, 0.0013, 0.0005, 0.0029, 0.0010, 0.0014, 0.0019, 0.0010, 0.0005,\n",
       "         0.0008, 0.0026, 0.0011, 0.0005, 0.0012, 0.0008, 0.0008, 0.0013, 0.0019,\n",
       "         0.0010, 0.0008, 0.0011, 0.0026, 0.0030, 0.0022, 0.0007, 0.0019, 0.0005,\n",
       "         0.0009, 0.0012, 0.0015, 0.0011, 0.0030, 0.0012, 0.0010, 0.0005, 0.0004,\n",
       "         0.0011, 0.0005, 0.0011, 0.0006, 0.0014, 0.0021, 0.0011, 0.0015, 0.0004,\n",
       "         0.0006, 0.0015, 0.0009, 0.0016, 0.0010, 0.0010, 0.0013, 0.0007, 0.0023,\n",
       "         0.0025, 0.0013, 0.0007, 0.0025, 0.0009, 0.0027, 0.0007, 0.0030, 0.0012,\n",
       "         0.0015, 0.0005, 0.0014, 0.0005, 0.0011, 0.0012, 0.0007, 0.0011, 0.0018,\n",
       "         0.0013, 0.0023, 0.0008, 0.0030, 0.0011, 0.0005, 0.0020, 0.0011, 0.0004,\n",
       "         0.0010, 0.0014, 0.0006, 0.0009, 0.0008, 0.0005, 0.0027, 0.0012, 0.0030,\n",
       "         0.0014, 0.0005, 0.0008, 0.0005, 0.0009, 0.0011, 0.0019, 0.0010, 0.0005,\n",
       "         0.0016, 0.0017, 0.0017, 0.0016, 0.0030, 0.0031, 0.0029, 0.0026, 0.0027,\n",
       "         0.0005, 0.0016, 0.0031, 0.0007, 0.0004, 0.0005, 0.0006, 0.0015, 0.0004,\n",
       "         0.0012, 0.0012, 0.0005, 0.0009, 0.0029, 0.0030, 0.0004, 0.0027, 0.0028,\n",
       "         0.0007, 0.0013, 0.0010, 0.0029, 0.0014, 0.0014, 0.0010, 0.0014, 0.0010,\n",
       "         0.0005, 0.0016, 0.0016, 0.0021, 0.0012, 0.0006, 0.0005, 0.0008, 0.0012,\n",
       "         0.0008, 0.0005, 0.0011, 0.0009, 0.0019, 0.0012, 0.0013, 0.0005, 0.0013,\n",
       "         0.0006, 0.0017, 0.0020, 0.0005, 0.0006, 0.0011, 0.0007, 0.0014, 0.0005,\n",
       "         0.0029, 0.0009, 0.0012, 0.0031, 0.0007, 0.0005, 0.0013, 0.0014, 0.0013,\n",
       "         0.0031, 0.0016, 0.0004, 0.0007, 0.0014, 0.0008, 0.0008, 0.0031, 0.0010,\n",
       "         0.0015, 0.0016, 0.0028, 0.0004, 0.0017, 0.0005, 0.0005, 0.0028, 0.0026,\n",
       "         0.0010, 0.0006, 0.0012, 0.0011, 0.0013, 0.0004, 0.0019, 0.0018, 0.0011,\n",
       "         0.0025, 0.0005, 0.0007, 0.0017, 0.0012, 0.0015, 0.0013, 0.0018, 0.0010,\n",
       "         0.0012, 0.0010, 0.0015, 0.0004, 0.0009, 0.0031, 0.0012, 0.0007, 0.0009,\n",
       "         0.0011, 0.0008, 0.0016, 0.0016, 0.0009, 0.0005, 0.0008, 0.0005, 0.0004,\n",
       "         0.0021, 0.0013, 0.0009, 0.0031, 0.0013, 0.0012, 0.0010, 0.0015, 0.0011,\n",
       "         0.0019, 0.0008, 0.0028, 0.0010, 0.0018, 0.0026, 0.0014, 0.0009, 0.0006,\n",
       "         0.0011, 0.0005, 0.0012, 0.0005, 0.0028, 0.0011, 0.0013, 0.0012, 0.0010,\n",
       "         0.0031, 0.0016, 0.0019, 0.0006, 0.0023, 0.0005, 0.0005, 0.0008, 0.0012,\n",
       "         0.0014, 0.0009, 0.0013, 0.0004, 0.0009, 0.0010, 0.0004, 0.0004, 0.0019,\n",
       "         0.0026, 0.0011, 0.0009, 0.0007, 0.0007, 0.0013, 0.0010, 0.0005, 0.0020,\n",
       "         0.0009, 0.0016, 0.0009, 0.0018, 0.0009, 0.0024, 0.0017, 0.0012, 0.0011,\n",
       "         0.0005, 0.0023, 0.0005, 0.0012, 0.0010, 0.0031, 0.0008, 0.0010, 0.0022,\n",
       "         0.0022, 0.0010, 0.0013, 0.0011, 0.0012, 0.0014, 0.0013, 0.0005, 0.0009,\n",
       "         0.0017, 0.0007, 0.0009, 0.0020, 0.0010, 0.0012, 0.0013, 0.0013, 0.0031,\n",
       "         0.0011, 0.0011, 0.0007, 0.0012, 0.0009, 0.0006, 0.0031, 0.0015, 0.0010,\n",
       "         0.0004, 0.0011, 0.0004, 0.0031, 0.0022, 0.0005, 0.0018, 0.0015, 0.0010,\n",
       "         0.0023, 0.0010, 0.0010, 0.0012, 0.0012, 0.0028, 0.0009, 0.0005, 0.0007,\n",
       "         0.0015, 0.0005, 0.0027, 0.0007, 0.0010, 0.0010, 0.0015, 0.0026, 0.0011,\n",
       "         0.0004, 0.0010, 0.0010, 0.0029, 0.0013, 0.0007, 0.0005, 0.0009, 0.0011,\n",
       "         0.0015, 0.0005, 0.0028, 0.0004, 0.0014, 0.0031, 0.0014, 0.0006, 0.0013,\n",
       "         0.0007, 0.0013, 0.0016, 0.0018, 0.0005, 0.0009, 0.0010, 0.0014, 0.0010,\n",
       "         0.0017, 0.0019, 0.0012, 0.0008, 0.0007, 0.0011, 0.0017, 0.0022, 0.0010,\n",
       "         0.0011, 0.0012, 0.0010, 0.0005, 0.0009, 0.0010, 0.0004, 0.0021, 0.0004,\n",
       "         0.0008, 0.0007, 0.0010, 0.0021, 0.0010, 0.0010, 0.0007, 0.0014, 0.0024,\n",
       "         0.0021, 0.0009, 0.0012, 0.0006, 0.0013, 0.0012, 0.0014, 0.0014, 0.0021,\n",
       "         0.0010, 0.0031, 0.0012, 0.0008, 0.0004, 0.0015, 0.0010, 0.0031, 0.0005,\n",
       "         0.0005, 0.0014, 0.0007, 0.0006, 0.0012, 0.0010, 0.0006, 0.0010, 0.0029,\n",
       "         0.0027, 0.0007, 0.0012, 0.0009, 0.0007, 0.0012, 0.0009, 0.0030, 0.0011,\n",
       "         0.0026, 0.0019, 0.0016, 0.0028, 0.0012, 0.0023, 0.0012, 0.0031, 0.0014,\n",
       "         0.0005, 0.0020, 0.0004, 0.0011, 0.0005, 0.0014, 0.0011, 0.0024, 0.0009,\n",
       "         0.0028, 0.0015, 0.0011, 0.0012, 0.0018, 0.0014, 0.0005, 0.0004, 0.0004,\n",
       "         0.0014, 0.0008, 0.0011, 0.0014, 0.0012, 0.0016, 0.0015, 0.0004, 0.0027,\n",
       "         0.0016, 0.0010, 0.0028, 0.0013, 0.0013, 0.0013, 0.0004, 0.0004, 0.0009,\n",
       "         0.0009, 0.0023, 0.0019, 0.0023, 0.0015, 0.0007, 0.0009, 0.0019, 0.0011,\n",
       "         0.0004, 0.0015, 0.0013, 0.0004, 0.0027, 0.0007, 0.0010, 0.0021, 0.0015,\n",
       "         0.0029, 0.0024, 0.0018, 0.0013, 0.0018, 0.0026, 0.0029, 0.0030, 0.0012,\n",
       "         0.0024, 0.0012, 0.0015, 0.0011, 0.0005, 0.0012, 0.0010, 0.0011, 0.0013,\n",
       "         0.0010, 0.0004, 0.0013, 0.0010, 0.0018, 0.0009, 0.0014, 0.0008, 0.0010,\n",
       "         0.0006, 0.0008, 0.0020, 0.0016, 0.0026, 0.0013, 0.0011, 0.0007, 0.0010,\n",
       "         0.0013, 0.0005, 0.0028, 0.0012, 0.0015, 0.0009, 0.0010, 0.0017, 0.0009,\n",
       "         0.0008, 0.0009, 0.0005, 0.0026, 0.0011, 0.0007, 0.0008, 0.0021, 0.0015,\n",
       "         0.0029, 0.0012, 0.0012, 0.0012, 0.0009, 0.0015, 0.0009, 0.0004, 0.0016,\n",
       "         0.0013, 0.0010, 0.0013, 0.0010, 0.0011, 0.0004, 0.0010, 0.0009, 0.0008,\n",
       "         0.0007, 0.0009, 0.0018, 0.0015, 0.0013, 0.0025, 0.0011, 0.0018, 0.0019,\n",
       "         0.0013, 0.0007, 0.0024]], grad_fn=<SoftmaxBackward0>)"
      ]
     },
     "execution_count": 9,
     "metadata": {},
     "output_type": "execute_result"
    }
   ],
   "source": [
    "t.softmax(outputs.pooler_output, dim=-1)"
   ]
  }
 ],
 "metadata": {
  "kernelspec": {
   "display_name": ".env",
   "language": "python",
   "name": "python3"
  },
  "language_info": {
   "codemirror_mode": {
    "name": "ipython",
    "version": 3
   },
   "file_extension": ".py",
   "mimetype": "text/x-python",
   "name": "python",
   "nbconvert_exporter": "python",
   "pygments_lexer": "ipython3",
   "version": "3.12.10"
  }
 },
 "nbformat": 4,
 "nbformat_minor": 5
}
